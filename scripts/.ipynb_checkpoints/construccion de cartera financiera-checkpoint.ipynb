{
 "cells": [
  {
   "cell_type": "markdown",
   "id": "2b7a0d3f",
   "metadata": {},
   "source": [
    "# CONSTRUCCION DE CARTERA FINANCIERA\n"
   ]
  },
  {
   "cell_type": "markdown",
   "id": "afddd32f",
   "metadata": {},
   "source": [
    "Librerias"
   ]
  },
  {
   "cell_type": "code",
   "execution_count": 17,
   "id": "cabee23c",
   "metadata": {},
   "outputs": [],
   "source": [
    "import numpy as np\n",
    "import matplotlib.pyplot as plt\n",
    "import pandas as pd"
   ]
  },
  {
   "cell_type": "markdown",
   "id": "dbea6aa3",
   "metadata": {},
   "source": [
    "### Lectura de base de datos"
   ]
  },
  {
   "cell_type": "code",
   "execution_count": 10,
   "id": "0c0e80e1",
   "metadata": {},
   "outputs": [],
   "source": [
    "data_route = '../data/'"
   ]
  },
  {
   "cell_type": "code",
   "execution_count": 11,
   "id": "cbc0ebb6",
   "metadata": {},
   "outputs": [],
   "source": [
    "expenses_filename = 'expenses.csv'\n",
    "incomes_filename = 'incomes.csv'"
   ]
  },
  {
   "cell_type": "code",
   "execution_count": 12,
   "id": "5bd44480",
   "metadata": {},
   "outputs": [],
   "source": [
    "expenses = pd.read_csv(data_route+expenses_filename)\n",
    "incomes = pd.read_csv(data_route+incomes_filename)"
   ]
  },
  {
   "cell_type": "code",
   "execution_count": 13,
   "id": "6d3dc64c",
   "metadata": {},
   "outputs": [
    {
     "data": {
      "text/html": [
       "<div>\n",
       "<style scoped>\n",
       "    .dataframe tbody tr th:only-of-type {\n",
       "        vertical-align: middle;\n",
       "    }\n",
       "\n",
       "    .dataframe tbody tr th {\n",
       "        vertical-align: top;\n",
       "    }\n",
       "\n",
       "    .dataframe thead th {\n",
       "        text-align: right;\n",
       "    }\n",
       "</style>\n",
       "<table border=\"1\" class=\"dataframe\">\n",
       "  <thead>\n",
       "    <tr style=\"text-align: right;\">\n",
       "      <th></th>\n",
       "      <th>DATE</th>\n",
       "      <th>AMOUNT</th>\n",
       "      <th>CATEGORY</th>\n",
       "      <th>THIRD-PARTY</th>\n",
       "      <th>DESCRIPTION</th>\n",
       "    </tr>\n",
       "  </thead>\n",
       "  <tbody>\n",
       "  </tbody>\n",
       "</table>\n",
       "</div>"
      ],
      "text/plain": [
       "Empty DataFrame\n",
       "Columns: [DATE, AMOUNT, CATEGORY, THIRD-PARTY, DESCRIPTION]\n",
       "Index: []"
      ]
     },
     "execution_count": 13,
     "metadata": {},
     "output_type": "execute_result"
    }
   ],
   "source": [
    "incomes"
   ]
  },
  {
   "cell_type": "code",
   "execution_count": 14,
   "id": "16d4e229",
   "metadata": {},
   "outputs": [
    {
     "data": {
      "text/html": [
       "<div>\n",
       "<style scoped>\n",
       "    .dataframe tbody tr th:only-of-type {\n",
       "        vertical-align: middle;\n",
       "    }\n",
       "\n",
       "    .dataframe tbody tr th {\n",
       "        vertical-align: top;\n",
       "    }\n",
       "\n",
       "    .dataframe thead th {\n",
       "        text-align: right;\n",
       "    }\n",
       "</style>\n",
       "<table border=\"1\" class=\"dataframe\">\n",
       "  <thead>\n",
       "    <tr style=\"text-align: right;\">\n",
       "      <th></th>\n",
       "      <th>DATE</th>\n",
       "      <th>AMOUNT</th>\n",
       "      <th>CATEGORY</th>\n",
       "      <th>THIRD-PARTY</th>\n",
       "      <th>DESCRIPTION</th>\n",
       "    </tr>\n",
       "  </thead>\n",
       "  <tbody>\n",
       "  </tbody>\n",
       "</table>\n",
       "</div>"
      ],
      "text/plain": [
       "Empty DataFrame\n",
       "Columns: [DATE, AMOUNT, CATEGORY, THIRD-PARTY, DESCRIPTION]\n",
       "Index: []"
      ]
     },
     "execution_count": 14,
     "metadata": {},
     "output_type": "execute_result"
    }
   ],
   "source": [
    "expenses"
   ]
  },
  {
   "cell_type": "markdown",
   "id": "4f5dc925",
   "metadata": {},
   "source": [
    "### construccion de la clase"
   ]
  },
  {
   "cell_type": "code",
   "execution_count": 69,
   "id": "2bd6259d",
   "metadata": {},
   "outputs": [],
   "source": [
    "class FWallet:\n",
    "    \n",
    "    def __init__(self, inputs):\n",
    "        self.inputs = inputs\n",
    "        self.incomes =pd.read_csv(self.inputs['data_route']+self.inputs['incomes_filename'])\n",
    "        self.expenses =pd.read_csv(self.inputs['data_route']+self.inputs['expenses_filename'])\n",
    "\n",
    "        \n",
    "        \n",
    "        ###actions to perform###\n",
    "        \n",
    "        ### add incomes to db###\n",
    "        \n",
    "    def add_income(self):\n",
    "        date = input('date: ')\n",
    "        amount = input('amount: ')\n",
    "        category = input('category: ')\n",
    "        third_party = input('third_party: ')\n",
    "        description = input('description: ')\n",
    "        \n",
    "        new_income = [date,amount,category,third_party,description]\n",
    "        \n",
    "        n = len(self.incomes)\n",
    "        self.incomes.loc[n] = new_income \n",
    "        \n",
    "        self.incomes.to_csv(self.inputs['data_route']+self.inputs['incomes_filename'], index = False)\n",
    "        \n",
    "        \n",
    "      ###add expenses to db###  \n",
    "        \n",
    "    def add_expense(self):\n",
    "        date = input('date: ')\n",
    "        amount = input('amount: ')\n",
    "        category = input('category: ')\n",
    "        third_party = input('third_party: ')\n",
    "        description = input('description: ')\n",
    "        \n",
    "        new_expense = [date,amount,category,third_party,description]\n",
    "        \n",
    "        n = len(self.expenses)\n",
    "        self.expenses.loc[n] = new_expense \n",
    "        \n",
    "        self.expenses.to_csv(self.inputs['data_route']+self.inputs['expenses_filename'], index = False)\n",
    "        \n",
    "        \n",
    "        \n",
    "        ###calculate total incomes###\n",
    "        \n",
    "    def total_incomes(self):\n",
    "        total = self.incomes['AMOUNT'].sum()\n",
    "        return total\n",
    "        \n",
    "        \n",
    "        ###calculate total expenses### \n",
    "    \n",
    "    def total_expenses(self):\n",
    "        total = self.expenses['AMOUNT'].sum()\n",
    "        return total\n",
    "    \n",
    "    ###calculate balance : income - expense\n",
    "    def balance(self):\n",
    "        balance = self.total_incomes() - self.total_expenses()\n",
    "        return balance\n",
    "    \n",
    "    \n",
    "    ###create a financial report usin the functions above###\n",
    "    def financial_report(self):\n",
    "        print('\\n'+'Financial Report'+'\\n')\n",
    "        print(f'total income: ${self.total_incomes()}')\n",
    "        print(f'total expense: ${self.total_expenses()}')\n",
    "        print(f'balance: ${self.balance()}')\n",
    "              \n",
    "    \n",
    "    \n",
    "    "
   ]
  },
  {
   "cell_type": "code",
   "execution_count": 70,
   "id": "7e5518e5",
   "metadata": {},
   "outputs": [],
   "source": [
    "inputs = {\n",
    "    \n",
    "    'data_route' : '../data/',\n",
    "    'expenses_filename' : 'expenses.csv' ,\n",
    "    'incomes_filename' : 'incomes.csv'\n",
    "\n",
    "    \n",
    "}"
   ]
  },
  {
   "cell_type": "code",
   "execution_count": 71,
   "id": "d3032879",
   "metadata": {},
   "outputs": [],
   "source": [
    "cartera = FWallet(inputs)"
   ]
  },
  {
   "cell_type": "code",
   "execution_count": 60,
   "id": "ff0a8a99",
   "metadata": {},
   "outputs": [
    {
     "data": {
      "text/html": [
       "<div>\n",
       "<style scoped>\n",
       "    .dataframe tbody tr th:only-of-type {\n",
       "        vertical-align: middle;\n",
       "    }\n",
       "\n",
       "    .dataframe tbody tr th {\n",
       "        vertical-align: top;\n",
       "    }\n",
       "\n",
       "    .dataframe thead th {\n",
       "        text-align: right;\n",
       "    }\n",
       "</style>\n",
       "<table border=\"1\" class=\"dataframe\">\n",
       "  <thead>\n",
       "    <tr style=\"text-align: right;\">\n",
       "      <th></th>\n",
       "      <th>DATE</th>\n",
       "      <th>AMOUNT</th>\n",
       "      <th>CATEGORY</th>\n",
       "      <th>THIRD-PARTY</th>\n",
       "      <th>DESCRIPTION</th>\n",
       "    </tr>\n",
       "  </thead>\n",
       "  <tbody>\n",
       "    <tr>\n",
       "      <th>0</th>\n",
       "      <td>09-09-2024</td>\n",
       "      <td>1200</td>\n",
       "      <td>cumpleaños</td>\n",
       "      <td>andes</td>\n",
       "      <td>cumpleaños</td>\n",
       "    </tr>\n",
       "  </tbody>\n",
       "</table>\n",
       "</div>"
      ],
      "text/plain": [
       "         DATE  AMOUNT    CATEGORY THIRD-PARTY DESCRIPTION\n",
       "0  09-09-2024    1200  cumpleaños       andes  cumpleaños"
      ]
     },
     "execution_count": 60,
     "metadata": {},
     "output_type": "execute_result"
    }
   ],
   "source": [
    "cartera.incomes"
   ]
  },
  {
   "cell_type": "raw",
   "id": "f03678c2",
   "metadata": {},
   "source": []
  },
  {
   "cell_type": "code",
   "execution_count": 40,
   "id": "98be9980",
   "metadata": {},
   "outputs": [
    {
     "name": "stdout",
     "output_type": "stream",
     "text": [
      "date: 09-09-2024\n",
      "amount: 1200\n",
      "category: cumpleaños\n",
      "third_party: andes\n",
      "description: cumpleaños\n"
     ]
    }
   ],
   "source": [
    "cartera.add_income()"
   ]
  },
  {
   "cell_type": "raw",
   "id": "78a6aa6c",
   "metadata": {},
   "source": [
    "cartera.incomes"
   ]
  },
  {
   "cell_type": "raw",
   "id": "2dc05e34",
   "metadata": {},
   "source": []
  },
  {
   "cell_type": "code",
   "execution_count": 41,
   "id": "caa75cc2",
   "metadata": {},
   "outputs": [
    {
     "data": {
      "text/html": [
       "<div>\n",
       "<style scoped>\n",
       "    .dataframe tbody tr th:only-of-type {\n",
       "        vertical-align: middle;\n",
       "    }\n",
       "\n",
       "    .dataframe tbody tr th {\n",
       "        vertical-align: top;\n",
       "    }\n",
       "\n",
       "    .dataframe thead th {\n",
       "        text-align: right;\n",
       "    }\n",
       "</style>\n",
       "<table border=\"1\" class=\"dataframe\">\n",
       "  <thead>\n",
       "    <tr style=\"text-align: right;\">\n",
       "      <th></th>\n",
       "      <th>DATE</th>\n",
       "      <th>AMOUNT</th>\n",
       "      <th>CATEGORY</th>\n",
       "      <th>THIRD-PARTY</th>\n",
       "      <th>DESCRIPTION</th>\n",
       "    </tr>\n",
       "  </thead>\n",
       "  <tbody>\n",
       "    <tr>\n",
       "      <th>0</th>\n",
       "      <td>09-09-2024</td>\n",
       "      <td>1200</td>\n",
       "      <td>cumpleaños</td>\n",
       "      <td>andes</td>\n",
       "      <td>cumpleaños</td>\n",
       "    </tr>\n",
       "  </tbody>\n",
       "</table>\n",
       "</div>"
      ],
      "text/plain": [
       "         DATE AMOUNT    CATEGORY THIRD-PARTY DESCRIPTION\n",
       "0  09-09-2024   1200  cumpleaños       andes  cumpleaños"
      ]
     },
     "execution_count": 41,
     "metadata": {},
     "output_type": "execute_result"
    }
   ],
   "source": [
    "cartera.incomes"
   ]
  },
  {
   "cell_type": "code",
   "execution_count": 53,
   "id": "31fc177d",
   "metadata": {},
   "outputs": [
    {
     "data": {
      "text/html": [
       "<div>\n",
       "<style scoped>\n",
       "    .dataframe tbody tr th:only-of-type {\n",
       "        vertical-align: middle;\n",
       "    }\n",
       "\n",
       "    .dataframe tbody tr th {\n",
       "        vertical-align: top;\n",
       "    }\n",
       "\n",
       "    .dataframe thead th {\n",
       "        text-align: right;\n",
       "    }\n",
       "</style>\n",
       "<table border=\"1\" class=\"dataframe\">\n",
       "  <thead>\n",
       "    <tr style=\"text-align: right;\">\n",
       "      <th></th>\n",
       "      <th>DATE</th>\n",
       "      <th>AMOUNT</th>\n",
       "      <th>CATEGORY</th>\n",
       "      <th>THIRD-PARTY</th>\n",
       "      <th>DESCRIPTION</th>\n",
       "    </tr>\n",
       "  </thead>\n",
       "  <tbody>\n",
       "    <tr>\n",
       "      <th>0</th>\n",
       "      <td>09-09-2000</td>\n",
       "      <td>5000</td>\n",
       "      <td>ncm</td>\n",
       "      <td>mom</td>\n",
       "      <td>baby</td>\n",
       "    </tr>\n",
       "  </tbody>\n",
       "</table>\n",
       "</div>"
      ],
      "text/plain": [
       "         DATE AMOUNT CATEGORY THIRD-PARTY DESCRIPTION\n",
       "0  09-09-2000   5000      ncm         mom        baby"
      ]
     },
     "execution_count": 53,
     "metadata": {},
     "output_type": "execute_result"
    }
   ],
   "source": [
    "cartera.expenses"
   ]
  },
  {
   "cell_type": "code",
   "execution_count": 52,
   "id": "f9a7f202",
   "metadata": {},
   "outputs": [
    {
     "name": "stdout",
     "output_type": "stream",
     "text": [
      "date: 09-09-2000\n",
      "amount: 5000\n",
      "category: ncm\n",
      "third_party: mom\n",
      "description: baby\n"
     ]
    }
   ],
   "source": [
    "cartera.add_expense()"
   ]
  },
  {
   "cell_type": "code",
   "execution_count": 72,
   "id": "4b6aab1c",
   "metadata": {},
   "outputs": [
    {
     "name": "stdout",
     "output_type": "stream",
     "text": [
      "\n",
      "Financial Report\n",
      "\n",
      "total income: $1200\n",
      "total expense: $5000\n",
      "balance: $-3800\n"
     ]
    }
   ],
   "source": [
    "cartera.financial_report()"
   ]
  },
  {
   "cell_type": "code",
   "execution_count": null,
   "id": "0253fddf",
   "metadata": {},
   "outputs": [],
   "source": []
  }
 ],
 "metadata": {
  "kernelspec": {
   "display_name": "Python 3 (ipykernel)",
   "language": "python",
   "name": "python3"
  },
  "language_info": {
   "codemirror_mode": {
    "name": "ipython",
    "version": 3
   },
   "file_extension": ".py",
   "mimetype": "text/x-python",
   "name": "python",
   "nbconvert_exporter": "python",
   "pygments_lexer": "ipython3",
   "version": "3.11.5"
  }
 },
 "nbformat": 4,
 "nbformat_minor": 5
}
